{
  "nbformat": 4,
  "nbformat_minor": 0,
  "metadata": {
    "colab": {
      "provenance": []
    },
    "kernelspec": {
      "name": "python3",
      "display_name": "Python 3"
    },
    "language_info": {
      "name": "python"
    }
  },
  "cells": [
    {
      "cell_type": "markdown",
      "source": [
        "# Socket"
      ],
      "metadata": {
        "id": "H5P67e1JKzM6"
      }
    },
    {
      "cell_type": "markdown",
      "source": [
        "Per poter simulare la connessione tra più client a un server, abbiamo bisogno di definire tre file.\n",
        "\n",
        "1.   Uno per la struttura dei client (con main);\n",
        "2.   Uno per la gestione delle richieste del client da parte del server; (con run)\n",
        "3.   Uno per la struttura del server (con main).\n",
        "\n",
        "\n",
        "\n",
        "\n",
        "---\n",
        "\n",
        "\n",
        "\n"
      ],
      "metadata": {
        "id": "HBTMqVmQK9LS"
      }
    },
    {
      "cell_type": "markdown",
      "source": [
        "**1.   CLIENT FILE**\n",
        "\n",
        "\n",
        "\n"
      ],
      "metadata": {
        "id": "QgFRLGSYZZgr"
      }
    },
    {
      "cell_type": "markdown",
      "source": [
        "Per gestire la trasmissione delle informazioni andiamo a definere un oggetto della classe Socket che ci permettirà di gestire la comunicazione lato client. Per farlo però dobbiamo importare la librera che ci mette a disposizione la classe:"
      ],
      "metadata": {
        "id": "aMcbH2cmaCJ_"
      }
    },
    {
      "cell_type": "code",
      "source": [
        "import java.net.Socket;\n",
        "  try (Socket socket = new Socket(\"localhost\", 56789);"
      ],
      "metadata": {
        "id": "oZkMB6p0Ws8r"
      },
      "execution_count": null,
      "outputs": []
    },
    {
      "cell_type": "markdown",
      "source": [
        "Questa è l'istanza che ci permette di creare un'oggetto della classe Socket. Come parametri dovremmo specificare l'indirizzo ip, in questo caso metteremo localhost utilizzando il nostro computer e successivamente la porta in cui avverrà la connessione."
      ],
      "metadata": {
        "id": "KMcj89p3XWSB"
      }
    },
    {
      "cell_type": "markdown",
      "source": [
        "**Come scegliere una porta?**"
      ],
      "metadata": {
        "id": "LP0PvSyta_3q"
      }
    },
    {
      "cell_type": "markdown",
      "source": [
        "Puoi usare porte nel range 49152–65535, noto come porte effimere o dinamiche, che sono generalmente non assegnate a servizi noti.\n",
        "\n",
        "Esempi: 49160, 50000, 60000.\n",
        "\n",
        "Evita porte già usate da servizi comuni (ad esempio, 3306 per MySQL, 5432 per PostgreSQL, ecc.).\n",
        "\n"
      ],
      "metadata": {
        "id": "iJ7_J55jcGbm"
      }
    },
    {
      "cell_type": "markdown",
      "source": [
        "**Gestione della trasmissione**"
      ],
      "metadata": {
        "id": "9sEySd5Kcu_P"
      }
    },
    {
      "cell_type": "markdown",
      "source": [
        "Per gestire l'input dell'utente che richiede il servizio tramite il client e l'input che invece viene dal server, utilizzaremo la classe BufferedReader e InputStreamReader. Anche queste hanno bisogno per essere utilizzate, di essere importate:"
      ],
      "metadata": {
        "id": "vjHEIzDMeG0K"
      }
    },
    {
      "cell_type": "code",
      "source": [
        "import java.io.BufferedReader;\n",
        "import java.io.InputStreamReader;\n",
        "BufferedReader inFromKeyboard = new BufferedReader(new InputStreamReader(System.in));//lettura dell'input da tastiera\n",
        "BufferedReader inFromServer = new BufferedReader(new InputStreamReader(socket.getInputStream()));//lettura dell'input restituito dal server"
      ],
      "metadata": {
        "id": "4b_-wklae3j8"
      },
      "execution_count": null,
      "outputs": []
    },
    {
      "cell_type": "markdown",
      "source": [
        "Per gestire l'output dall'utente al server, utilizzereno la classe PrintWriter. Anche qui per essere utilizzato deve essere importato. Per utilizzarlo dobbiamo racchiuderlo in un try e catch come quando leggiamo da un file per interrompere il programma e farci restituire un messaggio di errore se necessario:"
      ],
      "metadata": {
        "id": "8TzpRKwvz3wa"
      }
    },
    {
      "cell_type": "code",
      "source": [
        "import java.io.PrintWriter;\n",
        "import java.io.IOException;\n",
        "//il primo parametro specifica serve a creare un messagio in uscita da uno già esistente, mentre il secondo specifica se lo svuotamento del buffer tramite la flush viene fatto in automatico o no\n",
        "PrintWriter outToServer = new PrintWriter(socket.getOutputStream(), true)){\n",
        "            String msg, response;//variabili che conterranno il messaggio da mandare e il messaggio ricevuto dal server\n",
        "            System.out.println(\"connection stabilita (\"+socket.getInetAddress()+\", \"+socket.getPort()+\")\");//stampa del messaggio che ci conferma la stabilità della connessione e le informazioni\n",
        "            System.out.println(\"socket creata porta: \"+socket.getLocalPort());//specifichiamo la porta dove avviene la connessione\n",
        "            do {\n",
        "                msg = inFromKeyboard.readLine();//leggiamo l'input dall'utente\n",
        "                outToServer.println(msg);//inviamo il messaggio al server\n",
        "                response = inFromServer.readLine();//riceviamo la risposta dal server\n",
        "                System.out.println(\"Server sent: \" + response);//stampiamo la risposta a video\n",
        "            }while(!msg.equalsIgnoreCase(\"fine\"));//finchè l'utente non digita \"fine\" il client continuerà a rimanere in attesa dell'input dall'utente\n",
        "            System.out.println(\"Connection interrupted!\");//stampa della fine della connessione\n",
        "        } catch (IOException e) {\n",
        "            throw new RuntimeException(e);\n",
        "        }"
      ],
      "metadata": {
        "id": "MMhaz3lR0j3q"
      },
      "execution_count": null,
      "outputs": []
    },
    {
      "cell_type": "markdown",
      "source": [
        "**2. GESTIONE CLIENT FILE**\n",
        "\n"
      ],
      "metadata": {
        "id": "MLApHeB1AN_W"
      }
    },
    {
      "cell_type": "markdown",
      "source": [
        "Per gestire le richieste dei client da parte del server, abbiamo bisogno di definire un \"modello\" di gestione delle richieste da assegnare ad ogni thread, per far si che il server risponda ai vari client in maniera simultanea. Iniziamo nell'importare tutte le librerie comuni con il file client."
      ],
      "metadata": {
        "id": "Zl_eQjWiqx23"
      }
    },
    {
      "cell_type": "code",
      "source": [
        "import java.io.BufferedReader;\n",
        "import java.io.IOException;\n",
        "import java.io.InputStreamReader;\n",
        "import java.io.PrintWriter;\n",
        "import java.net.Socket;"
      ],
      "metadata": {
        "id": "3mVkQiSistcK"
      },
      "execution_count": null,
      "outputs": []
    },
    {
      "cell_type": "markdown",
      "source": [
        "Successivamente creiamo la classe ClientHandler, avente gli attributi utili alla gestione."
      ],
      "metadata": {
        "id": "1lD20_6Mswfj"
      }
    },
    {
      "cell_type": "code",
      "source": [
        "public class ClientHandler implements Runnable{\n",
        "    private Socket socket;\n",
        "    private BufferedReader inFromClient;\n",
        "    private PrintWriter outToClient;\n",
        "    private int contatore;"
      ],
      "metadata": {
        "id": "GKIMzWWqtRUA"
      },
      "execution_count": null,
      "outputs": []
    },
    {
      "cell_type": "markdown",
      "source": [
        "Il prossimo passo è creare il metodo contruttore che inizializzi gli attributi della classe, acquisendo le informazioni utili dalla lettura del socket assegnato dal server."
      ],
      "metadata": {
        "id": "962dGbfotVeX"
      }
    },
    {
      "cell_type": "code",
      "source": [
        "  public ClientHandler(Socket socket) throws IOException {//passaggio del socket da gestire\n",
        "        this.socket = socket;//asseganzione all'oggetto socket in locale\n",
        "        inFromClient = new BufferedReader(new InputStreamReader(socket.getInputStream()));//lettura della richiesta del client\n",
        "        outToClient = new PrintWriter(socket.getOutputStream(), true);//creazione dell'oggetto per l'output verso il client, passando come parametro il canale di trasmissione che è lo stesso del socket e il secondo che rappresenta \"auto pulizia\" del canale di trasmissione\n",
        "        contatore = 0;//inizializzazione del contatore che sarà utile a soddisfare la richiesta dei client\n",
        "    }"
      ],
      "metadata": {
        "id": "0_wtmPq2uWbT"
      },
      "execution_count": null,
      "outputs": []
    },
    {
      "cell_type": "markdown",
      "source": [
        "In fine bisogna definire l'override del metodo run, che in base agli input dell'utente generà e invierà ad esso una risposta. Utilizziamo try e catch per comunicare un'eventuale errore durante l'operazione da parte del thread gestore."
      ],
      "metadata": {
        "id": "uptrKYXKuZ-Z"
      }
    },
    {
      "cell_type": "code",
      "source": [
        "@Override\n",
        "    public void run() {\n",
        "        String request, msg;//variabili che conterranno il messaggio da mandare e il messaggio ricevuto dal server\n",
        "        try {\n",
        "            do{\n",
        "                request = inFromClient.readLine();//lettura della richiesta del client\n",
        "                switch(request.toLowerCase()) {//analisi della richiesta e in base a essa generazione della risposta\n",
        "                    case \"conta\" -> {//se la richiesta richiede di contare\n",
        "                        contatore++;//il thread gestore della richiesta al server incrementa il contatore\n",
        "                        msg = \"OK\";//genera un messaggio da inviare al clinet che gli dica che l'operazione è andata a buon fine\n",
        "                    }\n",
        "                    case \"fine\" ->//se la richiesta è di chiudere la trasmissione\n",
        "                        msg = contatore + \"\";//il thread gestore della richiesta al server prepara la risposta comunicando il contatore incrementato\n",
        "                    default ->//messaggio di default di richiesta non supportata\n",
        "                        msg = \"BAD REQUEST\";\n",
        "                }\n",
        "                outToClient.println(msg);//invio al client del messaggio elaborato\n",
        "            }while(!request.equalsIgnoreCase(\"fine\"));//il thread gestore della richiesta al server continua a rimanere in ascolto finchè il client non richiede la chiusura della trasmissione\n",
        "\n",
        "            socket.close();//chiude il canale di trasmissione\n",
        "            inFromClient.close();//chiuda la lettura da client\n",
        "            outToClient.close();//chiude la scrittura da server\n",
        "            System.out.println(\"Connection interrupted!\");//comunica la chiusura della connessione\n",
        "        } catch (IOException e) {\n",
        "            throw new RuntimeException(e);\n",
        "        }"
      ],
      "metadata": {
        "id": "HHIk9UZ0vnsk"
      },
      "execution_count": null,
      "outputs": []
    },
    {
      "cell_type": "markdown",
      "source": [
        "**3. SERVER FILE**\n",
        "\n"
      ],
      "metadata": {
        "id": "McZ6VPO94v3L"
      }
    },
    {
      "cell_type": "markdown",
      "source": [
        "Per il file del server andiamo a dichiarare l'oggetto Socket utilizzato dal client per la comunicazione al server, quindi importiamo nuovamente la librearia sui Socket."
      ],
      "metadata": {
        "id": "VBvoPD-E4-Za"
      }
    },
    {
      "cell_type": "code",
      "source": [
        "import java.net.Socket;\n",
        "Socket socket;"
      ],
      "metadata": {
        "id": "xHYwKbxi6bxv"
      },
      "execution_count": null,
      "outputs": []
    },
    {
      "cell_type": "markdown",
      "source": [
        "Per gestire la trasmissione di informazioni da parte del server dichiaramo la classe ServerSocket. Per dichiararlo ovvimente importiamo anche qui la libreria."
      ],
      "metadata": {
        "id": "Y-n26TS36ic-"
      }
    },
    {
      "cell_type": "code",
      "source": [
        " try (ServerSocket serverSocket = new ServerSocket(56789);//Come per il client definiamo l'oggetto serverSocket, specificando la porta dove il server si metterà in ascolto"
      ],
      "metadata": {
        "id": "4cYrG3b48WIs"
      },
      "execution_count": null,
      "outputs": []
    },
    {
      "cell_type": "markdown",
      "source": [
        "Per gestire più richieste del servizio da parte dei client al server, dichiaramo la classe ExecutorService per far gestire le richiesta da più tread secondo il modello del file precedetente creato. Anche qui per l'esecuzione del file utilizzeremo un try e catch per la stampa di un errore se si presenta un'errore durante l'esecuzione del codice:"
      ],
      "metadata": {
        "id": "O19QiTXm83jf"
      }
    },
    {
      "cell_type": "code",
      "source": [
        "import java.io.IOException;\n",
        "import java.util.concurrent.ExecutorService;\n",
        "import java.util.concurrent.Executors;\n",
        "ExecutorService executorService = Executors.newCachedThreadPool()){//dichiarazione della classe Threadpool già vista\n",
        "\n",
        "            System.out.println(\"Server ready on port 56789...\");//stampa iniziale del server che comunica la messa in attesa nella porta concordata\n",
        "\n",
        "            while(true) {//creiamo un ciclo infinito che resta in comunicazione finchè il client non interrompe la connessione\n",
        "                socket = serverSocket.accept();//accetta la connessione con il client\n",
        "                executorService.execute(new ClientHandler(socket));//manda in esecuzione un thread che attraverso il modello di gestione, gestiste le richieste del client passando il socket del client richiedente\n",
        "                System.out.println(\"New connection estabilished!\");//comunica a video che la nuova connessione è stata stabilita\n",
        "            }\n",
        "\n",
        "        } catch (IOException e) {\n",
        "            throw new RuntimeException(e);\n",
        "        }"
      ],
      "metadata": {
        "id": "kLp1ApSe95DB"
      },
      "execution_count": null,
      "outputs": []
    }
  ]
}